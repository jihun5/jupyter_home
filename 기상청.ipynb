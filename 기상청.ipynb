{
 "cells": [
  {
   "cell_type": "code",
   "execution_count": 11,
   "metadata": {},
   "outputs": [],
   "source": [
    "import requests\n",
    "import json\n",
    "from bs4 import BeautifulSoup\n",
    "from urllib.request import urlopen\n",
    "from urllib.parse import urlencode, unquote, quote_plus\n",
    "import urllib"
   ]
  },
  {
   "cell_type": "code",
   "execution_count": 25,
   "metadata": {},
   "outputs": [],
   "source": [
    "url = \"http://apis.data.go.kr/1360000/VilageFcstInfoService_2.0/getUltraSrtFcst\" + \\\n",
    "    \"?serviceKey=eS0E7JToyBtGKLXXeVcMeBbw85MRTo3H6yo6rsnCxBdNp4cPrgp6o2Q8mHhK%2F440p5YM1J6fx8X3nWPTj7T7KA%3D%3D\" + \\\n",
    "    \"&numOfRows=60&pageNo=1\" + \\\n",
    "    \"&base_date=2023627&base_time=0030&nx=61&ny=125&dataType=JSON\""
   ]
  },
  {
   "cell_type": "code",
   "execution_count": 26,
   "metadata": {},
   "outputs": [],
   "source": [
    "userAgent = \"Mozilla/5.0 (Windows NT 10.0; Win64; x64) AppleWebKit/537.36 (KHTML, like Gecko) Chrome/114.0.0.0 Safari/537.36\""
   ]
  },
  {
   "cell_type": "code",
   "execution_count": 27,
   "metadata": {},
   "outputs": [],
   "source": [
    "# 접속객체 생성\n",
    "session = requests.Session()\n",
    "# 접속객체에 부가정보(header) 삽입하기\n",
    "session.headers.update({\n",
    "    \"Referer\": \"\",\n",
    "    \"User-Agent\": userAgent\n",
    "})"
   ]
  },
  {
   "cell_type": "code",
   "execution_count": 28,
   "metadata": {},
   "outputs": [],
   "source": [
    "my_key = \"eS0E7JToyBtGKLXXeVcMeBbw85MRTo3H6yo6rsnCxBdNp4cPrgp6o2Q8mHhK%2F440p5YM1J6fx8X3nWPTj7T7KA%3D%3D\""
   ]
  },
  {
   "cell_type": "code",
   "execution_count": 29,
   "metadata": {},
   "outputs": [],
   "source": [
    "# 생성한 접속객체를 활용하여 API에 접속\n",
    "r = session.get(url)\n",
    "if r.status_code != 200:\n",
    "    msg = \"[%d Error] %s 에러가 발생함\" % (r.status_code, r.reason)\n",
    "    raise Exception(msg)"
   ]
  },
  {
   "cell_type": "code",
   "execution_count": 30,
   "metadata": {},
   "outputs": [
    {
     "ename": "KeyError",
     "evalue": "'body'",
     "output_type": "error",
     "traceback": [
      "\u001b[1;31m---------------------------------------------------------------------------\u001b[0m",
      "\u001b[1;31mKeyError\u001b[0m                                  Traceback (most recent call last)",
      "Cell \u001b[1;32mIn[30], line 4\u001b[0m\n\u001b[0;32m      2\u001b[0m data \u001b[39m=\u001b[39m json\u001b[39m.\u001b[39mloads(weather)\n\u001b[0;32m      3\u001b[0m rain \u001b[39m=\u001b[39m \u001b[39mdict\u001b[39m()\n\u001b[1;32m----> 4\u001b[0m \u001b[39mfor\u001b[39;00m i \u001b[39min\u001b[39;00m data[\u001b[39m\"\u001b[39;49m\u001b[39mresponse\u001b[39;49m\u001b[39m\"\u001b[39;49m][\u001b[39m\"\u001b[39;49m\u001b[39mbody\u001b[39;49m\u001b[39m\"\u001b[39;49m][\u001b[39m\"\u001b[39m\u001b[39mitems\u001b[39m\u001b[39m\"\u001b[39m][\u001b[39m\"\u001b[39m\u001b[39mitem\u001b[39m\u001b[39m\"\u001b[39m]:\n\u001b[0;32m      5\u001b[0m     \u001b[39mif\u001b[39;00m i[\u001b[39m\"\u001b[39m\u001b[39mcategory\u001b[39m\u001b[39m\"\u001b[39m] \u001b[39m==\u001b[39m \u001b[39m\"\u001b[39m\u001b[39mRN1\u001b[39m\u001b[39m\"\u001b[39m:\n\u001b[0;32m      6\u001b[0m         rain[i[\u001b[39m'\u001b[39m\u001b[39mfcstTime\u001b[39m\u001b[39m'\u001b[39m]] \u001b[39m=\u001b[39m i[\u001b[39m'\u001b[39m\u001b[39mfcstValue\u001b[39m\u001b[39m'\u001b[39m]\n",
      "\u001b[1;31mKeyError\u001b[0m: 'body'"
     ]
    }
   ],
   "source": [
    "weather = urlopen(url).read()\n",
    "data = json.loads(weather)\n",
    "rain = dict()\n",
    "for i in data[\"response\"][\"body\"][\"items\"][\"item\"]:\n",
    "    if i[\"category\"] == \"RN1\":\n",
    "        rain[i['fcstTime']] = i['fcstValue']\n",
    "for a, v in rain.i():\n",
    "    print(\"{}시에 예상 강수량 {}\".format(a,v))"
   ]
  },
  {
   "cell_type": "code",
   "execution_count": null,
   "metadata": {},
   "outputs": [],
   "source": []
  }
 ],
 "metadata": {
  "kernelspec": {
   "display_name": "Python 3",
   "language": "python",
   "name": "python3"
  },
  "language_info": {
   "codemirror_mode": {
    "name": "ipython",
    "version": 3
   },
   "file_extension": ".py",
   "mimetype": "text/x-python",
   "name": "python",
   "nbconvert_exporter": "python",
   "pygments_lexer": "ipython3",
   "version": "3.11.3"
  },
  "orig_nbformat": 4
 },
 "nbformat": 4,
 "nbformat_minor": 2
}
