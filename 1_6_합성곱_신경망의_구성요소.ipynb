{
  "nbformat": 4,
  "nbformat_minor": 0,
  "metadata": {
    "colab": {
      "provenance": [],
      "authorship_tag": "ABX9TyM595VMF2aanQs1+DlfeP4t",
      "include_colab_link": true
    },
    "kernelspec": {
      "name": "python3",
      "display_name": "Python 3"
    },
    "language_info": {
      "name": "python"
    }
  },
  "cells": [
    {
      "cell_type": "markdown",
      "metadata": {
        "id": "view-in-github",
        "colab_type": "text"
      },
      "source": [
        "<a href=\"https://colab.research.google.com/github/jihun5/jupyter_home/blob/main/1_6_%ED%95%A9%EC%84%B1%EA%B3%B1_%EC%8B%A0%EA%B2%BD%EB%A7%9D%EC%9D%98_%EA%B5%AC%EC%84%B1%EC%9A%94%EC%86%8C.ipynb\" target=\"_parent\"><img src=\"https://colab.research.google.com/assets/colab-badge.svg\" alt=\"Open In Colab\"/></a>"
      ]
    },
    {
      "cell_type": "markdown",
      "source": [
        "합성곱은 입력데이터 마법의 도장을 찍어서 유용한 특성만 드러나게 하는것으로 비유할 수 있다.\n",
        "\n",
        "합성곱의 밀집층의 계산은 입력 데이터 전체에 가중치를 적용하는 것이 아니라 일부에 가중치를 곱한다.\n",
        "\n",
        "합성곱 신경망에서는 완전 연결 신경망과 달리 뉴런을 필터 또는 커널이라고 부른다.\n",
        "\n",
        "가중치를 곱하여 도장을 찍어내듯이 만들어내기 때문에4x4인 경우 3x3인 모양의 도장을 4번찍을 수 있기때문에 2x2형태로 만들어진다.\n",
        "\n",
        "입력을 왼쪽에서 오른쪽으로 그 다음 위에서 아래로 이동하는 합성곱은 Conv2D 클래스로 제공한다.\n",
        "\n",
        "Conv2D의 첫번째 매개변수는 필더(도장)의 개수이다. Kernel_size 매개변수는 필터에 사용할 커널의 크기를 지정한다.\n",
        "\n",
        "4x4에 3x3을 찍어내면서도 원본의 4x4를 유지하기 위해 입력 배열의 주위를 가상의 원소로 채우는 것을 패딩이라고 한다. 실제 입력값은 아니기 때문에 패딩은 0으로 채운다. 패딩의 역할은 순전히 커널이 도장을 찍은 횟수를 늘려주는 것 밖에는 없다.\n",
        "\n",
        "이렇게 특성 맵의 크기를 동일하게 만들기 위해 입력 주위에 0으로 패딩하는 것을 세임 패딩이라고 부른다.\n",
        "\n",
        "패딩없이 순수한 입력 배열에서만 합성곱을 하여 특성 맵을 만드는 경우 밸리드 패딩이라고 한다.\n",
        "\n",
        "pedding 매개변수로 패딩을 지정할 수 있다. 기본값은 valid로 밸리드 패딩을 나타낸다. 셰임 패딩을 사용하려면 'same'로 지정한다.\n",
        "\n",
        "이제까지 한 칸씩 이동하는 합성곱 신경망을 보았다면 두 칸씩 이동하는 경우도 있다. 특성 맵의 크기를 줄이기 위함이다. 이를 스트라이드라고 부른다."
      ],
      "metadata": {
        "id": "QMxyeFO57Xtl"
      }
    },
    {
      "cell_type": "code",
      "source": [
        "from tensorflow import keras\n",
        "keras.layers.Conv2D(10, kernel_size=(3,3), activation='relu', padding='same', strides=1)"
      ],
      "metadata": {
        "colab": {
          "base_uri": "https://localhost:8080/"
        },
        "id": "PM_knS31_QvE",
        "outputId": "c3184079-6bfa-4ae1-f716-36494e0a63b1"
      },
      "execution_count": 3,
      "outputs": [
        {
          "output_type": "execute_result",
          "data": {
            "text/plain": [
              "<keras.src.layers.convolutional.conv2d.Conv2D at 0x79afe40b1270>"
            ]
          },
          "metadata": {},
          "execution_count": 3
        }
      ]
    },
    {
      "cell_type": "markdown",
      "source": [
        "strides 매개변수는 잘 사용하지 않는다.\n",
        "\n",
        "풀링은 합성곱 층에서 만든 특성 맵의 가로세로 크기를 줄이는 역할을 수행한다.\n",
        "도장을 찍은 영역에서 가장 큰 값을 고르거나 평균값을 계산한다 이를 최대 풀링, 평균 풀링이라고 부른다.\n",
        "\n",
        "4x4 크기의 특성 맵이 있다고 가정하면 2x2 최대 풀링을 적용하면 절반으로 크기가 줄어든다.\n",
        "\n",
        "풀링은 가중치가 없고 풀링 크기와 스트라이드가 같기 때문에 이해가 쉽다. 패딩도 없다. ex) keras.layers.MaxPooling2D(2, strides=2, padding='valid')와 같은 형태로 사용한다.\n"
      ],
      "metadata": {
        "id": "fPY7bykC_syF"
      }
    },
    {
      "cell_type": "markdown",
      "source": [
        "합성곱은 밀집층과 비슷하게 입력과 가중치를 곱하고 절편을 더하는 선형 계산이다.\n",
        "\n",
        "합성곱의 필터는 밀집층에 뉴런에 해당한다. 필터와 가중치와 절편을 종종 커널이라고 부른다. 자주 사용되는 커널의 크기는 (3,3) 또는 (5,5)이다.\n",
        "\n",
        "특성맵은 합성곱 층이나 풀링 층의 출력 배열을 의미한다. 필터 하나 하나가 특성 맵을 만든다.\n",
        "\n",
        "패딩은 합성공 층의 입력 주위에 추가한 0으로 채워진 픽셀이다. 패딩을 사용하지 않는 것을 밸리드 패딩이라고 한다.\n",
        "\n",
        "스트라이드는 합성곱 층에서 필터가 입력 위를 이동하는 크기다. 일반적으로 1을 사용한다.\n",
        "\n",
        "풀링은 가중치가 없고 특성 맵의 가로세로 크기를 줄이는 역할을 수행한다. 대표적으로 최대풀링과 평균 풀링이 있으며 (2,2) 풀링으로 입력을 절반으로 줄인다."
      ],
      "metadata": {
        "id": "UFU53Y67B_Rk"
      }
    },
    {
      "cell_type": "code",
      "source": [],
      "metadata": {
        "id": "RVl8HrKz_knE"
      },
      "execution_count": null,
      "outputs": []
    }
  ]
}