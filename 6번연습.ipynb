{
 "cells": [
  {
   "cell_type": "code",
   "execution_count": 6,
   "metadata": {},
   "outputs": [],
   "source": [
    "import requests\n",
    "import json\n",
    "from pandas import DataFrame"
   ]
  },
  {
   "cell_type": "code",
   "execution_count": 7,
   "metadata": {},
   "outputs": [],
   "source": [
    "urlFmt = \"http://dapi.kakao.com/v3/search/book?query={query}&page={page}&size{size}\""
   ]
  },
  {
   "cell_type": "code",
   "execution_count": 8,
   "metadata": {},
   "outputs": [],
   "source": [
    "query = \"파이썬\"\n",
    "page = 1\n",
    "size = 50\n",
    "key = \"899a1eedbcb6713b4e78b75f1e3ed026\""
   ]
  },
  {
   "cell_type": "code",
   "execution_count": 9,
   "metadata": {},
   "outputs": [],
   "source": [
    "session = requests.Session()\n",
    "session.headers.update({\n",
    "    \"Authorization\": \"KakaoAK %s\" % key\n",
    "\n",
    "})"
   ]
  },
  {
   "cell_type": "code",
   "execution_count": 10,
   "metadata": {},
   "outputs": [],
   "source": [
    "url = urlFmt.format(query=query, page=page, size=size)\n",
    "# url"
   ]
  },
  {
   "cell_type": "code",
   "execution_count": 11,
   "metadata": {},
   "outputs": [
    {
     "name": "stdout",
     "output_type": "stream",
     "text": [
      "최종검색 건수 391\n"
     ]
    }
   ],
   "source": [
    "# isEnd = False\n",
    "# mylist = []\n",
    "# page=1\n",
    "# query = \"은혼\"\n",
    "\n",
    "# while not isEnd:\n",
    "#     url = urlFmt.format(query=query, page=page, size=size)\n",
    "#     url\n",
    "#     r = session.get(url)\n",
    "#     if r.status_code != 200:\n",
    "#         msg = \"[%d Error] %s 에러가 발생함\" % (r.status_code, r.reason)\n",
    "#         raise Exception(msg)\n",
    "#     r.encoding = \"utf-8\"\n",
    "#     data = json.loads(r.text)\n",
    "#     data\n",
    "#     searchList = data['documents']\n",
    "#     mylist.extend(searchList)\n",
    "#     isEnd = bool(data['meta']['is_end'])\n",
    "#     page += 1\n",
    "# print(\"최종검색 건수 %d\" % len(mylist))"
   ]
  },
  {
   "cell_type": "code",
   "execution_count": 15,
   "metadata": {},
   "outputs": [
    {
     "name": "stdout",
     "output_type": "stream",
     "text": [
      "은혼 최종 합계금액 1773190\n"
     ]
    }
   ],
   "source": [
    "isEnd = False\n",
    "mylist = []\n",
    "page=1\n",
    "query = \"은혼\"\n",
    "\n",
    "while not isEnd:\n",
    "    url = urlFmt.format(query=query, page=page, size=size)\n",
    "    url\n",
    "    r = session.get(url)\n",
    "    if r.status_code != 200:\n",
    "        msg = \"[%d Error] %s 에러가 발생함\" % (r.status_code, r.reason)\n",
    "        raise Exception(msg)\n",
    "    r.encoding = \"utf-8\"\n",
    "    data = json.loads(r.text)\n",
    "    data\n",
    "    searchList = data['documents']\n",
    "    mylist.extend(searchList)\n",
    "    isEnd = bool(data['meta']['is_end'])\n",
    "    page += 1\n",
    "    sum_price = [a.get('price') for a in mylist]\n",
    "print(\"은혼 최종 합계금액\", sum(sum_price))"
   ]
  },
  {
   "cell_type": "code",
   "execution_count": 12,
   "metadata": {},
   "outputs": [
    {
     "data": {
      "text/html": [
       "<div>\n",
       "<style scoped>\n",
       "    .dataframe tbody tr th:only-of-type {\n",
       "        vertical-align: middle;\n",
       "    }\n",
       "\n",
       "    .dataframe tbody tr th {\n",
       "        vertical-align: top;\n",
       "    }\n",
       "\n",
       "    .dataframe thead th {\n",
       "        text-align: right;\n",
       "    }\n",
       "</style>\n",
       "<table border=\"1\" class=\"dataframe\">\n",
       "  <thead>\n",
       "    <tr style=\"text-align: right;\">\n",
       "      <th></th>\n",
       "      <th>authors</th>\n",
       "      <th>contents</th>\n",
       "      <th>datetime</th>\n",
       "      <th>isbn</th>\n",
       "      <th>price</th>\n",
       "      <th>publisher</th>\n",
       "      <th>sale_price</th>\n",
       "      <th>status</th>\n",
       "      <th>thumbnail</th>\n",
       "      <th>title</th>\n",
       "      <th>translators</th>\n",
       "      <th>url</th>\n",
       "    </tr>\n",
       "  </thead>\n",
       "  <tbody>\n",
       "    <tr>\n",
       "      <th>0</th>\n",
       "      <td>[안정은(은혼비), 아슬라]</td>\n",
       "      <td>그래요. 돌아가지 않을 거예요. 안 갈 거라고요!” 서은의 거부에, 이언의 내부에서...</td>\n",
       "      <td>2015-08-06T00:00:00.000+09:00</td>\n",
       "      <td>9791131192085</td>\n",
       "      <td>3500</td>\n",
       "      <td>로맨스토리</td>\n",
       "      <td>-1</td>\n",
       "      <td>정상판매</td>\n",
       "      <td>https://search1.kakaocdn.net/thumb/R120x174.q8...</td>\n",
       "      <td>낮과 밤 (무삭제판)</td>\n",
       "      <td>[]</td>\n",
       "      <td>https://search.daum.net/search?w=bookpage&amp;book...</td>\n",
       "    </tr>\n",
       "  </tbody>\n",
       "</table>\n",
       "</div>"
      ],
      "text/plain": [
       "           authors                                           contents  \\\n",
       "0  [안정은(은혼비), 아슬라]  그래요. 돌아가지 않을 거예요. 안 갈 거라고요!” 서은의 거부에, 이언의 내부에서...   \n",
       "\n",
       "                        datetime            isbn  price publisher  sale_price  \\\n",
       "0  2015-08-06T00:00:00.000+09:00   9791131192085   3500     로맨스토리          -1   \n",
       "\n",
       "  status                                          thumbnail        title  \\\n",
       "0   정상판매  https://search1.kakaocdn.net/thumb/R120x174.q8...  낮과 밤 (무삭제판)   \n",
       "\n",
       "  translators                                                url  \n",
       "0          []  https://search.daum.net/search?w=bookpage&book...  "
      ]
     },
     "execution_count": 12,
     "metadata": {},
     "output_type": "execute_result"
    }
   ],
   "source": [
    "df = DataFrame(data['documents'])\n",
    "df.to_excel(\"카카오 책검색 결과(%s).xlsx\" % query)\n",
    "df"
   ]
  },
  {
   "cell_type": "code",
   "execution_count": null,
   "metadata": {},
   "outputs": [],
   "source": []
  }
 ],
 "metadata": {
  "kernelspec": {
   "display_name": "Python 3",
   "language": "python",
   "name": "python3"
  },
  "language_info": {
   "codemirror_mode": {
    "name": "ipython",
    "version": 3
   },
   "file_extension": ".py",
   "mimetype": "text/x-python",
   "name": "python",
   "nbconvert_exporter": "python",
   "pygments_lexer": "ipython3",
   "version": "3.11.3"
  },
  "orig_nbformat": 4
 },
 "nbformat": 4,
 "nbformat_minor": 2
}
