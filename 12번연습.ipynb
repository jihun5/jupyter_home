{
 "cells": [
  {
   "cell_type": "code",
   "execution_count": 1,
   "metadata": {},
   "outputs": [],
   "source": [
    "import sys\n",
    "import os"
   ]
  },
  {
   "cell_type": "code",
   "execution_count": 2,
   "metadata": {},
   "outputs": [
    {
     "name": "stdout",
     "output_type": "stream",
     "text": [
      "win32\n"
     ]
    }
   ],
   "source": [
    "print(sys.platform)"
   ]
  },
  {
   "cell_type": "code",
   "execution_count": 3,
   "metadata": {},
   "outputs": [
    {
     "name": "stdout",
     "output_type": "stream",
     "text": [
      "['.git', '10번연습.ipynb', '11번 연습.ipynb', '12번연습.ipynb', '1번연습.ipynb', '2번연습.ipynb', '3번연습.ipynb', '4번연습.ipynb', '5번연습.ipynb', '6번연습.ipynb', '7-sample-pdf.html', '8번연습.ipynb', '9번연습.ipynb', 'jupyter_home', 'README.md', 'sample.png', '박스오피스_순위_20230617.xlsx', '블로그_수집.xlsx', '카카오 책검색 결과(은혼).xlsx', '카카오 책검색 결과(파이썬).xlsx']\n"
     ]
    }
   ],
   "source": [
    "ls = os.listdir(\"./\")\n",
    "print(ls)"
   ]
  },
  {
   "cell_type": "code",
   "execution_count": 5,
   "metadata": {},
   "outputs": [
    {
     "name": "stdout",
     "output_type": "stream",
     "text": [
      "True\n"
     ]
    }
   ],
   "source": [
    "k = os.path.exists(\"./2번연습.ipynb\")\n",
    "print(k)"
   ]
  },
  {
   "cell_type": "code",
   "execution_count": 4,
   "metadata": {},
   "outputs": [
    {
     "name": "stdout",
     "output_type": "stream",
     "text": [
      "c:\\Users\\82102\\새 폴더\\연습\n"
     ]
    }
   ],
   "source": [
    "print(os.path.abspath(\"./연습\"))"
   ]
  },
  {
   "cell_type": "code",
   "execution_count": 9,
   "metadata": {},
   "outputs": [],
   "source": [
    "# if os.path.exists('/hello') == False:\n",
    "#     os.mkdir(\"./hello\")\n",
    "#     print(\"hello 폴더를 생성했다\")\n",
    "# else:\n",
    "#     os.rmdir(\"./hello\")\n",
    "#     print(\"hello 폴더를 삭제했다.\")"
   ]
  },
  {
   "cell_type": "code",
   "execution_count": 10,
   "metadata": {},
   "outputs": [],
   "source": [
    "import glob as gl"
   ]
  },
  {
   "cell_type": "code",
   "execution_count": 11,
   "metadata": {},
   "outputs": [
    {
     "name": "stdout",
     "output_type": "stream",
     "text": [
      "['10번연습.ipynb', '11번 연습.ipynb', '12번연습.ipynb', '1번연습.ipynb', '2번연습.ipynb', '3번연습.ipynb', '4번연습.ipynb', '5번연습.ipynb', '6번연습.ipynb', '7-sample-pdf.html', '8번연습.ipynb', '9번연습.ipynb', 'jupyter_home', 'README.md', 'sample.png', '박스오피스_순위_20230617.xlsx', '블로그_수집.xlsx', '카카오 책검색 결과(은혼).xlsx', '카카오 책검색 결과(파이썬).xlsx']\n"
     ]
    }
   ],
   "source": [
    "ls = gl.glob(\"*\")\n",
    "print(ls)"
   ]
  },
  {
   "cell_type": "code",
   "execution_count": 13,
   "metadata": {},
   "outputs": [],
   "source": [
    "import shutil\n",
    "# if os.path.exists('python') == False:\n",
    "#     os.makedirs(\"python/test/hello/world\", exist_ok=True)\n",
    "#     print(\"python 폴더와 하위 폴더들을 생성했습니다.\")\n",
    "# else:\n",
    "#     shutil.rmtree('python')\n",
    "#     print(\"python 폴더가 삭제되었습니다.\")"
   ]
  },
  {
   "cell_type": "code",
   "execution_count": 14,
   "metadata": {},
   "outputs": [],
   "source": [
    "# if os.path.exists('python'):\n",
    "#     shutil.move('python', '../created')\n",
    "#     print('python 폴더가 ../created 폴더로 이동되었습니다')"
   ]
  },
  {
   "cell_type": "code",
   "execution_count": 15,
   "metadata": {},
   "outputs": [],
   "source": [
    "# if os.path.exists(\"../created\"):\n",
    "#     shutil.copytree('../created', './copy')\n",
    "#     print('python 폴더가 copy로 복사되었습니다.')"
   ]
  },
  {
   "cell_type": "code",
   "execution_count": 16,
   "metadata": {},
   "outputs": [
    {
     "name": "stdout",
     "output_type": "stream",
     "text": [
      "hello.txt 파일을 생성했습니다.\n"
     ]
    }
   ],
   "source": [
    "if os.path.exists('hello.txt') == False:\n",
    "    with open(\"hello.txt\", 'w', encoding='utf-8') as f:\n",
    "        f.write(\"Life is too short, you need python\")\n",
    "        print(\"hello.txt 파일을 생성했습니다.\")\n",
    "else:\n",
    "    os.remove('hello.txt')\n",
    "    print(\"hello.txt가 삭제되었습니다.\")\n",
    "    os.remove('world.txt')\n",
    "    print('world.txt가 삭제되었습니다.')"
   ]
  },
  {
   "cell_type": "code",
   "execution_count": null,
   "metadata": {},
   "outputs": [],
   "source": []
  }
 ],
 "metadata": {
  "kernelspec": {
   "display_name": "Python 3",
   "language": "python",
   "name": "python3"
  },
  "language_info": {
   "codemirror_mode": {
    "name": "ipython",
    "version": 3
   },
   "file_extension": ".py",
   "mimetype": "text/x-python",
   "name": "python",
   "nbconvert_exporter": "python",
   "pygments_lexer": "ipython3",
   "version": "3.11.3"
  },
  "orig_nbformat": 4
 },
 "nbformat": 4,
 "nbformat_minor": 2
}
