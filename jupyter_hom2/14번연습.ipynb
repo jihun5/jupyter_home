{
 "cells": [
  {
   "cell_type": "code",
   "execution_count": 1,
   "metadata": {},
   "outputs": [],
   "source": [
    "grade = [\n",
    "    {\"name\": \"철수\", \"kor\": 95, \"eng\": 88, \"math\": 72},\n",
    "    {\"name\": \"영희\", \"kor\": 92, \"eng\": 90, \"math\": 95},\n",
    "    {\"name\": \"철민\", \"kor\": 88, \"eng\": 76, \"math\": 64}\n",
    "    ]\n",
    "tpl = \"{0},{1},{2},{3}\\n\"\n",
    "with open(\"grade.csv\", 'w', encoding='utf-8') as f:\n",
    "    f.write(\"이름,국어,영어,수학\\n\")\n",
    "    for item in grade:\n",
    "        tmp = tpl.format(item[\"name\"], item[\"kor\"], item[\"eng\"], item[\"math\"])\n",
    "        f.write(tmp)"
   ]
  },
  {
   "cell_type": "code",
   "execution_count": 3,
   "metadata": {},
   "outputs": [
    {
     "name": "stdout",
     "output_type": "stream",
     "text": [
      "이름,국어,영어,수학\n",
      "\n"
     ]
    }
   ],
   "source": [
    "csv_list = None\n",
    "with open(\"grade.csv\", 'r', encoding='utf-8') as f:\n",
    "    csv_list = f.readline()\n",
    "print(csv_list)"
   ]
  },
  {
   "cell_type": "code",
   "execution_count": null,
   "metadata": {},
   "outputs": [],
   "source": []
  }
 ],
 "metadata": {
  "kernelspec": {
   "display_name": "Python 3",
   "language": "python",
   "name": "python3"
  },
  "language_info": {
   "codemirror_mode": {
    "name": "ipython",
    "version": 3
   },
   "file_extension": ".py",
   "mimetype": "text/x-python",
   "name": "python",
   "nbconvert_exporter": "python",
   "pygments_lexer": "ipython3",
   "version": "3.11.3"
  },
  "orig_nbformat": 4
 },
 "nbformat": 4,
 "nbformat_minor": 2
}
