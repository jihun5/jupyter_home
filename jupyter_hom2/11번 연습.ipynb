{
 "cells": [
  {
   "cell_type": "code",
   "execution_count": 2,
   "metadata": {},
   "outputs": [],
   "source": [
    "import requests\n",
    "from bs4 import BeautifulSoup\n",
    "from pandas import DataFrame "
   ]
  },
  {
   "cell_type": "code",
   "execution_count": 3,
   "metadata": {},
   "outputs": [],
   "source": [
    "url = \"https://www.coupang.com/np/search?q=%EB%85%B8%ED%8A%B8%EB%B6%81&listSize=72&channel=user\"\n",
    "userAgent = \"Mozilla/5.0 (Windows NT 10.0; Win64; x64) AppleWebKit/537.36 (KHTML, like Gecko) Chrome/114.0.0.0 Safari/537.36\"\n",
    "session = requests.Session()\n",
    "session.headers.update({\n",
    "    \"Referer\": \"\",\n",
    "    \"User-Agent\": userAgent,\n",
    "    \"Accept-Language\": \"ko-KR,ko;q=0.8,en-US;q=0.5,en;q=0.3\"\n",
    "})\n",
    "r = session.get(url)\n",
    "if r.status_code !=200:\n",
    "    msg = \"[%d Error] %s 에러가 발생함\" % (r.status_code, r.reason)\n",
    "    raise Exception(msg)\n",
    "r.encoding = \"utf-8\"\n",
    "soup = BeautifulSoup(r.text)"
   ]
  },
  {
   "cell_type": "code",
   "execution_count": 5,
   "metadata": {},
   "outputs": [
    {
     "name": "stdout",
     "output_type": "stream",
     "text": [
      "검색결과 수 : 72\n"
     ]
    }
   ],
   "source": [
    "product = soup.select(\".search-product-wrap\")\n",
    "print(\"검색결과 수 :\", len(product))"
   ]
  },
  {
   "cell_type": "code",
   "execution_count": 7,
   "metadata": {},
   "outputs": [],
   "source": [
    "data = []\n",
    "for p in product:\n",
    "    nameEL = p.select(\"name\")\n",
    "    if nameEL:\n",
    "        name = nameEL[0].text.strip()\n",
    "    else:\n",
    "        name = None\n",
    "    basePriceEl = p.select(\".base-price\")\n",
    "    if basePriceEl:\n",
    "        basePrice = int(basePriceEl[0].text.strip().replace(\",\",\"\"))\n",
    "    else:\n",
    "        basePrice = None\n",
    "    discountEl = p.select(\".instant-discount-rate\")\n",
    "    if discountEl:\n",
    "        discount = int(discountEl[0].text.strip().replace(\"%\",\"\"))/100\n",
    "    else:\n",
    "        discount = None\n",
    "    priceEl = p.select(\".price-value\")\n",
    "    if priceEl:\n",
    "        price = int(priceEl[0].text.strip().replace(\",\",\"\")) \n",
    "    else:\n",
    "        price = None\n",
    "    ratingEl = p.select(\".rating\")\n",
    "    if ratingEl:\n",
    "        rating = float(ratingEl[0].text.strip()) \n",
    "    else:\n",
    "        basePrice = None\n",
    "    reviewEl = p.select(\".rating-total-count\")\n",
    "    if reviewEl:\n",
    "        review = reviewEl[0].text.strip()\n",
    "        review = int(review[1:-1])\n",
    "    else:\n",
    "        basePrice = None\n",
    "    imageEl = p.select(\".search-product-wrap-img\")\n",
    "    if imageEl:\n",
    "        if \"data-img-src\" in imageEl[0].attrs: \n",
    "            image = \"http:\" + imageEl[0].attrs['data-img-src']\n",
    "        else:\n",
    "            image = \"http:\" + imageEl[0].attrs['src']\n",
    "    else:\n",
    "        image = None\n",
    "    item = {\n",
    "        \"상품명\": name,\n",
    "        \"가격\" : basePrice,\n",
    "        \"할인율\": discount,\n",
    "        \"할인가\": price,\n",
    "        \"별점\": rating,\n",
    "        \"리뷰수\": review,\n",
    "        \"상품이미지\": image\n",
    "    }\n",
    "    data.append(item)\n",
    "df=DataFrame(data)"
   ]
  },
  {
   "cell_type": "code",
   "execution_count": null,
   "metadata": {},
   "outputs": [],
   "source": []
  }
 ],
 "metadata": {
  "kernelspec": {
   "display_name": "Python 3",
   "language": "python",
   "name": "python3"
  },
  "language_info": {
   "codemirror_mode": {
    "name": "ipython",
    "version": 3
   },
   "file_extension": ".py",
   "mimetype": "text/x-python",
   "name": "python",
   "nbconvert_exporter": "python",
   "pygments_lexer": "ipython3",
   "version": "3.11.3"
  },
  "orig_nbformat": 4
 },
 "nbformat": 4,
 "nbformat_minor": 2
}
