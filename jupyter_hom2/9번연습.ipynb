{
 "cells": [
  {
   "cell_type": "code",
   "execution_count": 1,
   "metadata": {},
   "outputs": [],
   "source": [
    "import requests\n",
    "import json\n",
    "from pandas import DataFrame\n",
    "import os\n"
   ]
  },
  {
   "cell_type": "code",
   "execution_count": 2,
   "metadata": {},
   "outputs": [],
   "source": [
    "urlFmt = \"https://dapi.kakao.com/v2/search/image?query={query}&page={page}&size={size}\""
   ]
  },
  {
   "cell_type": "code",
   "execution_count": 3,
   "metadata": {},
   "outputs": [],
   "source": [
    "query = \"봄패션\"\n",
    "page = 1\n",
    "size = 80\n",
    "key = \"899a1eedbcb6713b4e78b75f1e3ed026\"\n",
    "userAgent = \"Mozilla/5.0 (Windows NT 10.0; Win64; x64) AppleWebKit/537.36 (KHTML, like Gecko) Chrome/114.0.0.0 Safari/537.36\""
   ]
  },
  {
   "cell_type": "code",
   "execution_count": 4,
   "metadata": {},
   "outputs": [],
   "source": [
    "session = requests.Session()\n",
    "session.headers.update({\n",
    "\"Authorization\": \"KakaoAK %s\" % key\n",
    "})"
   ]
  },
  {
   "cell_type": "code",
   "execution_count": 5,
   "metadata": {},
   "outputs": [],
   "source": [
    "isEnd = False\n",
    "page = 1\n",
    "count = 0\n",
    "while not isEnd:\n",
    "    url = urlFmt.format(query=query, page=page, size=size)\n",
    "    r = session.get(url)\n",
    "    if r.status_code != 200:\n",
    "        msg = \"[%d Error] %s 에러가 발생함\" % (r.status_code, r.reason)\n",
    "        raise Exception(msg)\n",
    "    r.encoding = \"utf-8\"\n",
    "    data = json.loads(r.text)\n",
    "    searchList = data['documents']\n",
    "    isEnd = bool(data['meta']['is_end'])\n",
    "    page += 1\n",
    "    if os.path.exists(query) == False:\n",
    "        os.mkdir(query)\n",
    "    for i, v in enumerate(searchList):\n",
    "        count += 1\n",
    "        docUrl = v['doc_url']\n",
    "        imageUrl = v['image_url']\n",
    "        session.headers.update({\n",
    "            \"Authorization\": \"KakaoAK %s\" % key,\n",
    "            \"Referer\": docUrl,\n",
    "            \"User-Agent\": userAgent\n",
    "            })\n",
    "    if r.status_code != 200:\n",
    "        continue # 안되면 무시하고 다시 위로\n",
    "    fileName = \"%s/%d05d.png\" %(query, count)\n",
    "\n",
    "    with open(fileName, 'wb') as f:\n",
    "        r.write(r.raw.read())\n",
    "print(\"종료\")"
   ]
  },
  {
   "cell_type": "code",
   "execution_count": null,
   "metadata": {},
   "outputs": [],
   "source": []
  }
 ],
 "metadata": {
  "kernelspec": {
   "display_name": "Python 3",
   "language": "python",
   "name": "python3"
  },
  "language_info": {
   "codemirror_mode": {
    "name": "ipython",
    "version": 3
   },
   "file_extension": ".py",
   "mimetype": "text/x-python",
   "name": "python",
   "nbconvert_exporter": "python",
   "pygments_lexer": "ipython3",
   "version": "3.11.3"
  },
  "orig_nbformat": 4
 },
 "nbformat": 4,
 "nbformat_minor": 2
}
