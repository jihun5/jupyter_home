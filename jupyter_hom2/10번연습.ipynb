{
 "cells": [
  {
   "cell_type": "code",
   "execution_count": 1,
   "metadata": {},
   "outputs": [],
   "source": [
    "import requests\n",
    "from bs4 import BeautifulSoup\n",
    "from pandas import DataFrame"
   ]
  },
  {
   "cell_type": "code",
   "execution_count": 2,
   "metadata": {},
   "outputs": [],
   "source": [
    "url = \"https://blog.hossam.kr/\"\n",
    "userAgent = \"Mozilla/5.0 (Windows NT 10.0; Win64; x64) AppleWebKit/537.36 (KHTML, like Gecko) Chrome/114.0.0.0 Safari/537.36\"\n",
    "session = requests.Session()\n",
    "session.headers.update({\n",
    "\"Referer\": \"\",\n",
    "\"User-Agent\" : userAgent\n",
    "})\n",
    "r = session.get(url)\n",
    "if r.status_code !=200:\n",
    "    msg = \"[%d Error] %s 에러가 발생함\" % (r.status_code, r.reason)\n",
    "    raise Exception(msg)\n",
    "r.encoding = \"utf-8\"\n",
    "soup = BeautifulSoup(r.text)\n",
    "# soup"
   ]
  },
  {
   "cell_type": "code",
   "execution_count": 4,
   "metadata": {},
   "outputs": [],
   "source": [
    "articleList = soup.select('.post')\n",
    "# articleList"
   ]
  },
  {
   "cell_type": "code",
   "execution_count": 6,
   "metadata": {},
   "outputs": [],
   "source": [
    "result = []\n",
    "for article in articleList:\n",
    "    titleEl = article.select(\".entry-title > a\")\n",
    "    title = titleEl[0].text.strip()\n",
    "    dateEl = article.select(\".published\")\n",
    "    date = dateEl[0].attrs['datetime']\n",
    "    contentEl = article.select(\".entry-content > p\")\n",
    "    content = contentEl[0].text.strip()\n",
    "    item = {\"제목\":title, \"작성일\": date, \"요약글\": content}\n",
    "    result.append(item)\n",
    "# result"
   ]
  },
  {
   "cell_type": "code",
   "execution_count": 7,
   "metadata": {},
   "outputs": [
    {
     "data": {
      "text/html": [
       "<div>\n",
       "<style scoped>\n",
       "    .dataframe tbody tr th:only-of-type {\n",
       "        vertical-align: middle;\n",
       "    }\n",
       "\n",
       "    .dataframe tbody tr th {\n",
       "        vertical-align: top;\n",
       "    }\n",
       "\n",
       "    .dataframe thead th {\n",
       "        text-align: right;\n",
       "    }\n",
       "</style>\n",
       "<table border=\"1\" class=\"dataframe\">\n",
       "  <thead>\n",
       "    <tr style=\"text-align: right;\">\n",
       "      <th></th>\n",
       "      <th>제목</th>\n",
       "      <th>작성일</th>\n",
       "      <th>요약글</th>\n",
       "    </tr>\n",
       "  </thead>\n",
       "  <tbody>\n",
       "    <tr>\n",
       "      <th>0</th>\n",
       "      <td>[R] 패키지의 이해</td>\n",
       "      <td>2022-12-14</td>\n",
       "      <td>패키지란 R이 제공하지 않는 기능을 구현해 놓은 일종의 확장팩을 말합니다. 온라인에...</td>\n",
       "    </tr>\n",
       "    <tr>\n",
       "      <th>1</th>\n",
       "      <td>[R] 내장함수</td>\n",
       "      <td>2022-12-13</td>\n",
       "      <td>내장함수는 데이터 분석가에게 제공되어질 목적으로 R 안에 사전에 정의되어 내장되어 ...</td>\n",
       "    </tr>\n",
       "    <tr>\n",
       "      <th>2</th>\n",
       "      <td>[R] 함수의 이해</td>\n",
       "      <td>2022-12-12</td>\n",
       "      <td>함수란 자주 사용되는 명령어들을 그룹화해서 생성한 재사용 가능 단위를 의미합니다. ...</td>\n",
       "    </tr>\n",
       "    <tr>\n",
       "      <th>3</th>\n",
       "      <td>[R] 프로그램 흐름제어 (3) - 기본 문법 활용하기</td>\n",
       "      <td>2022-12-11</td>\n",
       "      <td>if, while, for 문은 각각의 블록({}) 안에 같은 종류의 구문 혹은 다...</td>\n",
       "    </tr>\n",
       "    <tr>\n",
       "      <th>4</th>\n",
       "      <td>[R] 프로그램 흐름제어 (2) - 반복문</td>\n",
       "      <td>2022-12-10</td>\n",
       "      <td>주어진 조건을 충족하는 동안 {}안의 구문을 반복적으로 수행하는 형태를 반복문이라고...</td>\n",
       "    </tr>\n",
       "  </tbody>\n",
       "</table>\n",
       "</div>"
      ],
      "text/plain": [
       "                               제목         작성일  \\\n",
       "0                     [R] 패키지의 이해  2022-12-14   \n",
       "1                        [R] 내장함수  2022-12-13   \n",
       "2                      [R] 함수의 이해  2022-12-12   \n",
       "3  [R] 프로그램 흐름제어 (3) - 기본 문법 활용하기  2022-12-11   \n",
       "4         [R] 프로그램 흐름제어 (2) - 반복문  2022-12-10   \n",
       "\n",
       "                                                 요약글  \n",
       "0  패키지란 R이 제공하지 않는 기능을 구현해 놓은 일종의 확장팩을 말합니다. 온라인에...  \n",
       "1  내장함수는 데이터 분석가에게 제공되어질 목적으로 R 안에 사전에 정의되어 내장되어 ...  \n",
       "2  함수란 자주 사용되는 명령어들을 그룹화해서 생성한 재사용 가능 단위를 의미합니다. ...  \n",
       "3  if, while, for 문은 각각의 블록({}) 안에 같은 종류의 구문 혹은 다...  \n",
       "4  주어진 조건을 충족하는 동안 {}안의 구문을 반복적으로 수행하는 형태를 반복문이라고...  "
      ]
     },
     "execution_count": 7,
     "metadata": {},
     "output_type": "execute_result"
    }
   ],
   "source": [
    "df = DataFrame(result)\n",
    "df.to_excel(\"블로그_수집.xlsx\")\n",
    "df"
   ]
  },
  {
   "cell_type": "code",
   "execution_count": null,
   "metadata": {},
   "outputs": [],
   "source": []
  }
 ],
 "metadata": {
  "kernelspec": {
   "display_name": "Python 3",
   "language": "python",
   "name": "python3"
  },
  "language_info": {
   "codemirror_mode": {
    "name": "ipython",
    "version": 3
   },
   "file_extension": ".py",
   "mimetype": "text/x-python",
   "name": "python",
   "nbconvert_exporter": "python",
   "pygments_lexer": "ipython3",
   "version": "3.11.3"
  },
  "orig_nbformat": 4
 },
 "nbformat": 4,
 "nbformat_minor": 2
}
