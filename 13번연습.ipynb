{
 "cells": [
  {
   "cell_type": "code",
   "execution_count": 1,
   "metadata": {},
   "outputs": [],
   "source": [
    "f = open(\"helloworld.txt\", 'w', encoding='utf-8')\n",
    "f.write('hello Python!!\\n')\n",
    "f.write('안녕하세요! 파이썬!!!\\n')\n",
    "f.close()"
   ]
  },
  {
   "cell_type": "code",
   "execution_count": 2,
   "metadata": {},
   "outputs": [
    {
     "name": "stdout",
     "output_type": "stream",
     "text": [
      "hello Python!!\n",
      "안녕하세요! 파이썬!!!\n",
      "\n"
     ]
    }
   ],
   "source": [
    "f = open(\"helloworld.txt\", 'r', encoding=\"utf-8\")\n",
    "data = f.read()\n",
    "print(data)\n",
    "f.close()"
   ]
  },
  {
   "cell_type": "code",
   "execution_count": 3,
   "metadata": {},
   "outputs": [
    {
     "name": "stdout",
     "output_type": "stream",
     "text": [
      "파일 저장이 완료되었습니다.\n"
     ]
    }
   ],
   "source": [
    "with open(\"hellopython.txt\", 'w', encoding='utf-8') as f:\n",
    "    for i in range(0, 5):\n",
    "        f.write('%d > ' % i)\n",
    "        f.write(\"Life is too short, \")\n",
    "        f.write(\"you need python\\n\")\n",
    "    print(\"파일 저장이 완료되었습니다.\")\n"
   ]
  },
  {
   "cell_type": "code",
   "execution_count": 4,
   "metadata": {},
   "outputs": [
    {
     "name": "stdout",
     "output_type": "stream",
     "text": [
      "0 > Life is too short, you need python\n",
      "1 > Life is too short, you need python\n",
      "2 > Life is too short, you need python\n",
      "3 > Life is too short, you need python\n",
      "4 > Life is too short, you need python\n",
      "\n"
     ]
    }
   ],
   "source": [
    "with open(\"hellopython.txt\", 'r', encoding='utf-8') as f:\n",
    "    data = f.read()\n",
    "    print(data)"
   ]
  },
  {
   "cell_type": "code",
   "execution_count": 5,
   "metadata": {},
   "outputs": [
    {
     "name": "stdout",
     "output_type": "stream",
     "text": [
      "0 > Life is too short, you need python\n",
      "\n",
      "------------------------------\n",
      "읽어들인 데이터는 총 39줄 입니다.\n",
      "------------------------------\n",
      "0\n",
      "\n",
      ">\n",
      "\n",
      "L\n",
      "i\n",
      "f\n",
      "e\n",
      "\n",
      "i\n",
      "s\n",
      "\n",
      "t\n",
      "o\n",
      "o\n",
      "\n",
      "s\n",
      "h\n",
      "o\n",
      "r\n",
      "t\n",
      ",\n",
      "\n",
      "y\n",
      "o\n",
      "u\n",
      "\n",
      "n\n",
      "e\n",
      "e\n",
      "d\n",
      "\n",
      "p\n",
      "y\n",
      "t\n",
      "h\n",
      "o\n",
      "n\n",
      "\n"
     ]
    }
   ],
   "source": [
    "with open(\"hellopython.txt\", 'r', encoding='utf-8') as f:\n",
    "    lines = f.readline()\n",
    "    print(lines)\n",
    "    print(\"-\" * 30)\n",
    "    size = len(lines)\n",
    "    print(\"읽어들인 데이터는 총 %d줄 입니다.\" % size)\n",
    "    print(\"-\" * 30)\n",
    "for item in lines:\n",
    "    print(item.strip())"
   ]
  },
  {
   "cell_type": "code",
   "execution_count": null,
   "metadata": {},
   "outputs": [],
   "source": []
  }
 ],
 "metadata": {
  "kernelspec": {
   "display_name": "Python 3",
   "language": "python",
   "name": "python3"
  },
  "language_info": {
   "codemirror_mode": {
    "name": "ipython",
    "version": 3
   },
   "file_extension": ".py",
   "mimetype": "text/x-python",
   "name": "python",
   "nbconvert_exporter": "python",
   "pygments_lexer": "ipython3",
   "version": "3.11.3"
  },
  "orig_nbformat": 4
 },
 "nbformat": 4,
 "nbformat_minor": 2
}
