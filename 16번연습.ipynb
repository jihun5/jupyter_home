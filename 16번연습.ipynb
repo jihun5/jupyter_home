{
 "cells": [
  {
   "cell_type": "code",
   "execution_count": 1,
   "metadata": {},
   "outputs": [],
   "source": [
    "import requests\n",
    "from bs4 import BeautifulSoup\n",
    "from pandas import DataFrame"
   ]
  },
  {
   "cell_type": "code",
   "execution_count": 2,
   "metadata": {},
   "outputs": [],
   "source": [
    "session = requests.Session()\n",
    "session.headers.update({\n",
    "    \"Referer\": \"\",\n",
    "    \"User-Agent\": \"Mozilla/5.0 (Windows NT 10.0; Win64; x64) AppleWebKit/537.36 (KHTML, like Gecko) Chrome/114.0.0.0 Safari/537.36\"\n",
    "})"
   ]
  },
  {
   "cell_type": "code",
   "execution_count": 3,
   "metadata": {},
   "outputs": [],
   "source": [
    "clist = [1011,1023,1030,1041,1046,1052,1054,1057,1062,1064,1070,1073,1076]"
   ]
  },
  {
   "cell_type": "code",
   "execution_count": null,
   "metadata": {},
   "outputs": [],
   "source": [
    "학과목록_리스트 = []\n",
    "\n",
    "for c in clist:\n",
    "    url = \"https://www.sookmyung.ac.kr/sookmyungkr/%d/subview.do\" % c\n",
    "\n",
    "    r = session.get(url)\n",
    "    if r.status_code != 200:\n",
    "        msg = \"[%d Error] %s 에러가 발생함\" % (r.status_code, r.reason)\n",
    "        raise Exception(msg)\n",
    "    r.encoding = \"utf-8\"\n",
    "    soup = BeautifulSoup(r.text)\n",
    "\n",
    "\n",
    "    college_list = soup.select(\".college_list\")\n",
    "    for item in college_list:\n",
    "        h5El = item.select(\"h5\")\n",
    "        name = h5El[0].text.strip()\n",
    "\n",
    "        viewEl = item.select(\".view\")\n",
    "        view = viewEl[0].attrs[\"href\"]\n",
    "        if view.find(\"http://www.sookmyung.ac.kr\") == -1:\n",
    "            view = \"http://www.sookmyung.ac.kr\" + view\n",
    "\n",
    "        pdfEl = item.select(\".info\") \n",
    "        pdf = pdfEl[0].attrs[\"href\"] \n",
    "        \n",
    "        homepageEl = item.select(\".homepage\")\n",
    "        homepage = homepageEl[0].attrs['href']\n",
    "        \n",
    "        college_dict = {\"학과이름\": name, \"상세페이지\": view, \"홈페이지\": homepage}\n",
    "\n",
    "        \n",
    "        r = session.get(view)\n",
    "        if r.status_code != 200:\n",
    "            msg = \"[%d Error] %s 에러가 발생함\" % (r.status_code, r.reason)\n",
    "            print(msg)\n",
    "            continue\n",
    "\n",
    "        r.encoding = \"utf-8\"\n",
    "        detailSoup = BeautifulSoup(r.text)\n",
    "\n",
    "        infoEl = detailSoup.select(\".college_info_data dl\")\n",
    "    \n",
    "        for info in infoEl:\n",
    "            dt = info.select(\"dt\")[0].text.replace(\":\", \"\").strip() \n",
    "            dd = info.select(\"dd\")[0].text.replace(\":\", \"\").strip()\n",
    "        \n",
    "            college_dict[dt] = dd\n",
    "        \n",
    "        학과목록_리스트.append(college_dict)\n",
    "        \n",
    "        if pdf.find(\".pdf\") > -1:\n",
    "            pass\n",
    "            r = session.get(pdf, stream=True)\n",
    "            if r.status_code == 200:\n",
    "                r.encoding = \"utf-8\"\n",
    "                with open(\"%s.pdf\" % name , 'wb') as f:\n",
    "                    f.write(r.raw.read())\n",
    "\n",
    "df = DataFrame(학과목록_리스트)\n",
    "df.to_excel(\"result.xlsx\")\n",
    "df"
   ]
  }
 ],
 "metadata": {
  "kernelspec": {
   "display_name": "Python 3",
   "language": "python",
   "name": "python3"
  },
  "language_info": {
   "codemirror_mode": {
    "name": "ipython",
    "version": 3
   },
   "file_extension": ".py",
   "mimetype": "text/x-python",
   "name": "python",
   "nbconvert_exporter": "python",
   "pygments_lexer": "ipython3",
   "version": "3.11.3"
  },
  "orig_nbformat": 4
 },
 "nbformat": 4,
 "nbformat_minor": 2
}
